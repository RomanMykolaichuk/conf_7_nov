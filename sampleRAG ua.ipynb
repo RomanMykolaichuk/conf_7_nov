{
 "cells": [
  {
   "cell_type": "code",
   "execution_count": 1,
   "metadata": {},
   "outputs": [],
   "source": [
    "#%pip install -r requirements.txt"
   ]
  },
  {
   "cell_type": "code",
   "execution_count": 2,
   "metadata": {},
   "outputs": [],
   "source": [
    "import os\n",
    "\n",
    "os.environ[\"OPENAI_API_KEY\"] = \"NA\""
   ]
  },
  {
   "cell_type": "code",
   "execution_count": 3,
   "metadata": {},
   "outputs": [],
   "source": [
    "from llama_index.llms.ollama import Ollama\n",
    "\n",
    "llm = Ollama(model=\"llama3\", request_timeout=4000.0)"
   ]
  },
  {
   "cell_type": "code",
   "execution_count": 4,
   "metadata": {},
   "outputs": [
    {
     "name": "stderr",
     "output_type": "stream",
     "text": [
      "c:\\datascience\\conf_7_nov\\.venv\\Lib\\site-packages\\tqdm\\auto.py:21: TqdmWarning: IProgress not found. Please update jupyter and ipywidgets. See https://ipywidgets.readthedocs.io/en/stable/user_install.html\n",
      "  from .autonotebook import tqdm as notebook_tqdm\n",
      "No sentence-transformers model found with name benjamin/roberta-base-wechsel-ukrainian. Creating a new one with mean pooling.\n",
      "Some weights of RobertaModel were not initialized from the model checkpoint at benjamin/roberta-base-wechsel-ukrainian and are newly initialized: ['roberta.pooler.dense.bias', 'roberta.pooler.dense.weight']\n",
      "You should probably TRAIN this model on a down-stream task to be able to use it for predictions and inference.\n"
     ]
    }
   ],
   "source": [
    "from llama_index.core import SimpleDirectoryReader\n",
    "from llama_index.embeddings.huggingface import HuggingFaceEmbedding\n",
    "\n",
    "documents = SimpleDirectoryReader(\"data_ua\").load_data()\n",
    "\n",
    "\n",
    "# loads embed_model\n",
    "embed_model = HuggingFaceEmbedding('benjamin/roberta-base-wechsel-ukrainian')\n",
    "\n"
   ]
  },
  {
   "cell_type": "code",
   "execution_count": 5,
   "metadata": {},
   "outputs": [],
   "source": [
    "import chromadb\n",
    "from llama_index.core import VectorStoreIndex, Settings\n",
    "from llama_index.vector_stores.chroma import ChromaVectorStore\n",
    "from llama_index.core import StorageContext\n",
    "\n"
   ]
  },
  {
   "cell_type": "code",
   "execution_count": 6,
   "metadata": {},
   "outputs": [],
   "source": [
    "# Configure global settings\n",
    "Settings.llm = llm\n",
    "Settings.embed_model = embed_model\n",
    "# Set the chunk size (number of tokens per chunk)\n",
    "Settings.chunk_size = 512\n",
    "# Set the chunk overlap (number of tokens overlapping between chunks)\n",
    "Settings.chunk_overlap = 50"
   ]
  },
  {
   "cell_type": "code",
   "execution_count": 7,
   "metadata": {},
   "outputs": [
    {
     "name": "stderr",
     "output_type": "stream",
     "text": [
      "Parsing nodes: 100%|██████████| 223/223 [00:00<00:00, 310.96it/s]\n",
      "Generating embeddings: 100%|██████████| 570/570 [05:59<00:00,  1.58it/s]\n"
     ]
    },
    {
     "name": "stderr",
     "output_type": "stream",
     "text": [
      "Error while downloading from https://cdn-lfs.hf.co/repos/d8/31/d83106d084f39cfb29da5f4886ac74b061803cfb0bdd23de2427b225da5d333b/b1865dda27714a19396169ffc59e4c192e0a1a519732cdc5a94c010c37519c2f?response-content-disposition=inline%3B+filename*%3DUTF-8%27%27model.safetensors%3B+filename%3D%22model.safetensors%22%3B&Expires=1730878644&Policy=eyJTdGF0ZW1lbnQiOlt7IkNvbmRpdGlvbiI6eyJEYXRlTGVzc1RoYW4iOnsiQVdTOkVwb2NoVGltZSI6MTczMDg3ODY0NH19LCJSZXNvdXJjZSI6Imh0dHBzOi8vY2RuLWxmcy5oZi5jby9yZXBvcy9kOC8zMS9kODMxMDZkMDg0ZjM5Y2ZiMjlkYTVmNDg4NmFjNzRiMDYxODAzY2ZiMGJkZDIzZGUyNDI3YjIyNWRhNWQzMzNiL2IxODY1ZGRhMjc3MTRhMTkzOTYxNjlmZmM1OWU0YzE5MmUwYTFhNTE5NzMyY2RjNWE5NGMwMTBjMzc1MTljMmY%7EcmVzcG9uc2UtY29udGVudC1kaXNwb3NpdGlvbj0qIn1dfQ__&Signature=fcxmxByl2Y8dJ0zFduv-RO1f4JtHVCxCiFeTb1tSxNAw9SSnTE7eaerGr8Gj%7ER29sCMMF7oaRgFrlZ23hn8nuSly6cyEvjDjq1-5deB0kyLXiZ4yP6wldUh5ulLDOP5x47GYXx6Gq5LzSHnBQgbBoHmSofT%7EoUGTAPXHdee1EsaAyaW5HCcZonbCrEng6PY6qKQQTwYFzqPbrpB1KRf2aTl0oaAnSLCpco-0ll0IzSZs5VQ5bAOx08XHXuqWymOAVTVzngZ3zXU1DkuoDuWk3obqChwe75kc%7EAY2hk5dEbg%7EG6mKXGPzHRmq4Aiju7cl-NYdadPvhzg2C%7EkXg7qLbA__&Key-Pair-Id=K3RPWS32NSSJCE: HTTPSConnectionPool(host='cdn-lfs.hf.co', port=443): Read timed out.\n",
      "Trying to resume download...\n",
      "Error while downloading from https://cdn-lfs.hf.co/repos/d8/31/d83106d084f39cfb29da5f4886ac74b061803cfb0bdd23de2427b225da5d333b/b1865dda27714a19396169ffc59e4c192e0a1a519732cdc5a94c010c37519c2f?response-content-disposition=inline%3B+filename*%3DUTF-8%27%27model.safetensors%3B+filename%3D%22model.safetensors%22%3B&Expires=1730878644&Policy=eyJTdGF0ZW1lbnQiOlt7IkNvbmRpdGlvbiI6eyJEYXRlTGVzc1RoYW4iOnsiQVdTOkVwb2NoVGltZSI6MTczMDg3ODY0NH19LCJSZXNvdXJjZSI6Imh0dHBzOi8vY2RuLWxmcy5oZi5jby9yZXBvcy9kOC8zMS9kODMxMDZkMDg0ZjM5Y2ZiMjlkYTVmNDg4NmFjNzRiMDYxODAzY2ZiMGJkZDIzZGUyNDI3YjIyNWRhNWQzMzNiL2IxODY1ZGRhMjc3MTRhMTkzOTYxNjlmZmM1OWU0YzE5MmUwYTFhNTE5NzMyY2RjNWE5NGMwMTBjMzc1MTljMmY%7EcmVzcG9uc2UtY29udGVudC1kaXNwb3NpdGlvbj0qIn1dfQ__&Signature=fcxmxByl2Y8dJ0zFduv-RO1f4JtHVCxCiFeTb1tSxNAw9SSnTE7eaerGr8Gj%7ER29sCMMF7oaRgFrlZ23hn8nuSly6cyEvjDjq1-5deB0kyLXiZ4yP6wldUh5ulLDOP5x47GYXx6Gq5LzSHnBQgbBoHmSofT%7EoUGTAPXHdee1EsaAyaW5HCcZonbCrEng6PY6qKQQTwYFzqPbrpB1KRf2aTl0oaAnSLCpco-0ll0IzSZs5VQ5bAOx08XHXuqWymOAVTVzngZ3zXU1DkuoDuWk3obqChwe75kc%7EAY2hk5dEbg%7EG6mKXGPzHRmq4Aiju7cl-NYdadPvhzg2C%7EkXg7qLbA__&Key-Pair-Id=K3RPWS32NSSJCE: HTTPSConnectionPool(host='cdn-lfs.hf.co', port=443): Read timed out.\n",
      "Trying to resume download...\n",
      "c:\\datascience\\conf_7_nov\\.venv\\Lib\\site-packages\\huggingface_hub\\file_download.py:139: UserWarning: `huggingface_hub` cache-system uses symlinks by default to efficiently store duplicated files but your machine does not support them in C:\\Users\\38068\\AppData\\Local\\llama_index\\models--benjamin--roberta-base-wechsel-ukrainian. Caching files will still work but in a degraded version that might require more space on your disk. This warning can be disabled by setting the `HF_HUB_DISABLE_SYMLINKS_WARNING` environment variable. For more details, see https://huggingface.co/docs/huggingface_hub/how-to-cache#limitations.\n",
      "To support symlinks on Windows, you either need to activate Developer Mode or to run Python as an administrator. In order to activate developer mode, see this article: https://docs.microsoft.com/en-us/windows/apps/get-started/enable-your-device-for-development\n",
      "  warnings.warn(message)\n"
     ]
    }
   ],
   "source": [
    "\n",
    "index = VectorStoreIndex.from_documents(documents, show_progress=True)"
   ]
  },
  {
   "cell_type": "code",
   "execution_count": 8,
   "metadata": {},
   "outputs": [],
   "source": [
    "# Set up the retriever from your index\n",
    "top_k = 5\n",
    "retriever = index.as_retriever(similarity_top_k=top_k)\n"
   ]
  },
  {
   "cell_type": "code",
   "execution_count": 9,
   "metadata": {},
   "outputs": [],
   "source": [
    "def get_augmented_prompt(query):\n",
    "    retrieved_documents = retriever.retrieve(query)\n",
    "    # Augment the prompt by including the retrieved documents\n",
    "    # Constructing an augmented prompt with context from retrieved documents\n",
    "    augmented_prompt = f\"Context:\\n\"\n",
    "    for doc in retrieved_documents:\n",
    "        text = doc.text\n",
    "        augmented_prompt += f\"{text}\\n\"\n",
    "    augmented_prompt += f\"\\nQuestion: {query}\\nPlease provide a concise and accurate answer in ukrainian based on the context.\"\n",
    "    return augmented_prompt\n"
   ]
  },
  {
   "cell_type": "code",
   "execution_count": 10,
   "metadata": {},
   "outputs": [],
   "source": [
    "from IPython.display import Markdown, display\n",
    "\n",
    "# Send the augmented prompt to a language model for a synthesized response\n",
    "def get_RAG_response(query):    \n",
    "    response = llm.complete(get_augmented_prompt(query))\n",
    "    return response\n"
   ]
  },
  {
   "cell_type": "code",
   "execution_count": 11,
   "metadata": {},
   "outputs": [
    {
     "data": {
      "text/markdown": [
       "## <b>Response:</b> \n",
       " #### Інформаційне суспільство - це суспільство, де інформація є основною формою цінності та джерелом влади. У ньому людина живе у середовищі, що постійно генерує, оброблює та розповсюджує інформацію, що впливає на всі аспекти життя. Інформаційне суспільство характеризується швидким обміном інформацією, масовим доступом до інформації та змінами в соціальних, економічних та політичних процесах.\n",
       "\n",
       "(What is an information society? It's a society where information is the main form of value and source of power. In it, people live in an environment that constantly generates, processes, and disseminates information that affects all aspects of life. An information society is characterized by rapid information exchange, widespread access to information, and changes in social, economic, and political processes.)"
      ],
      "text/plain": [
       "<IPython.core.display.Markdown object>"
      ]
     },
     "metadata": {},
     "output_type": "display_data"
    }
   ],
   "source": [
    "query = \"Що таке інформаційне суспільство?\"\n",
    "response = get_RAG_response(query)\n",
    "display(Markdown(f\"## <b>Response:</b> \\n #### {response}\"))\n"
   ]
  },
  {
   "cell_type": "code",
   "execution_count": 12,
   "metadata": {},
   "outputs": [
    {
     "data": {
      "text/markdown": [
       "## <b>Response:</b> \n",
       " #### Головними рисами інформаційного суспільства є:\n",
       "\n",
       "* Розвиток комп'ютерних технологій та їхня інтеграція в різні аспекти життя;\n",
       "* Центральна роль комп'ютера в обробці інформації та знання;\n",
       "* Висока швидкість і глобальна доступність обміну інформацією;\n",
       "* Розподіл інформації між різними джерелами та носіями;\n",
       "* Використання стандартних процедур, персоналу та субкультури для організації роботи.\n",
       "\n",
       "(Translation: The main features of an information society are:\n",
       "\n",
       "* Development of computer technologies and their integration into various aspects of life;\n",
       "* Central role of the computer in processing information and knowledge;\n",
       "* High speed and global accessibility of information exchange;\n",
       "* Distribution of information among different sources and carriers;\n",
       "* Use of standard procedures, personnel, and subculture for organizing work.)"
      ],
      "text/plain": [
       "<IPython.core.display.Markdown object>"
      ]
     },
     "metadata": {},
     "output_type": "display_data"
    }
   ],
   "source": [
    "query = \"Головні риси інформаційного суспільства?\"\n",
    "response = get_RAG_response(query)\n",
    "display(Markdown(f\"## <b>Response:</b> \\n #### {response}\"))"
   ]
  }
 ],
 "metadata": {
  "kernelspec": {
   "display_name": ".venv",
   "language": "python",
   "name": "python3"
  },
  "language_info": {
   "codemirror_mode": {
    "name": "ipython",
    "version": 3
   },
   "file_extension": ".py",
   "mimetype": "text/x-python",
   "name": "python",
   "nbconvert_exporter": "python",
   "pygments_lexer": "ipython3",
   "version": "3.11.9"
  }
 },
 "nbformat": 4,
 "nbformat_minor": 2
}
