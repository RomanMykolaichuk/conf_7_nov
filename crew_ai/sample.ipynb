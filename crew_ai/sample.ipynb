{
 "cells": [
  {
   "cell_type": "markdown",
   "metadata": {},
   "source": [
    "[Claude chat](https://claude.ai/chat/d5cba3e2-bb37-48e8-918a-690f57373367)"
   ]
  },
  {
   "cell_type": "code",
   "execution_count": 1,
   "metadata": {},
   "outputs": [],
   "source": [
    "# Cell 1: Install required packages\n",
    "# %pip install -r ../requirements.txt \n"
   ]
  },
  {
   "cell_type": "code",
   "execution_count": 2,
   "metadata": {},
   "outputs": [],
   "source": [
    "import os\n",
    "from dotenv import load_dotenv\n",
    "load_dotenv()\n",
    "groq_api_key = os.getenv('GROQ_API_KEY')\n",
    "\n",
    "from langchain_openai import ChatOpenAI\n",
    "\n",
    "# Налаштування версії llm через groq.com\n",
    "llm = ChatOpenAI(\n",
    "    openai_api_base=\"https://api.groq.com/openai/v1\", \n",
    "    openai_api_key=os.getenv(\"GROQ_API_KEY\"), \n",
    "    model_name=\"llama3-70b-8192\"  \n",
    "    #model_name=\"mixtral-8x7b-32768\"\n",
    ")\n"
   ]
  },
  {
   "cell_type": "code",
   "execution_count": 3,
   "metadata": {},
   "outputs": [],
   "source": [
    "\n",
    "# Cell 2: Imports and Setup\n",
    "import os\n",
    "from typing import List\n",
    "import PyPDF2\n",
    "from crewai import Agent, Task, Crew\n",
    "from langchain.llms import Ollama\n",
    "import warnings\n",
    "warnings.filterwarnings('ignore')\n",
    "\n",
    "# Initialize Ollama LLM\n",
    "#llm = Ollama(model=\"llama3\")\n"
   ]
  },
  {
   "cell_type": "code",
   "execution_count": 4,
   "metadata": {},
   "outputs": [],
   "source": [
    "\n",
    "# Cell 3: PDF Content Extractor\n",
    "def extract_pdf_content(pdf_path: str) -> str:\n",
    "    \"\"\"Extract text content from a PDF file.\"\"\"\n",
    "    content = \"\"\n",
    "    try:\n",
    "        with open(pdf_path, 'rb') as file:\n",
    "            pdf_reader = PyPDF2.PdfReader(file)\n",
    "            for page in pdf_reader.pages:\n",
    "                text = page.extract_text()\n",
    "                if text:\n",
    "                    content += text\n",
    "        return content\n",
    "    except Exception as e:\n",
    "        raise Exception(f\"Error reading PDF: {str(e)}\")\n"
   ]
  },
  {
   "cell_type": "code",
   "execution_count": 5,
   "metadata": {},
   "outputs": [],
   "source": [
    "# Cell 4: Create Agents\n",
    "def create_agents(llm):\n",
    "    \"\"\"Create specialized agents for test generation.\"\"\"\n",
    "    question_creator = Agent(\n",
    "        name=\"Question Creator\",\n",
    "        role=\"test question creator\",  # Ensure this matches available role options\n",
    "        goal=\"Create varied and effective test question from the analyzed content\",\n",
    "        backstory=\"Expert in creating diverse types of test questions, skilled at assessing different cognitive levels.\",\n",
    "        llm=llm,\n",
    "        verbose=True\n",
    "    )\n",
    "\n",
    "    format_specialist = Agent(\n",
    "        name=\"Format Specialist\",\n",
    "        role=\"test format specialist\",  # Adjusted to match the expected role name\n",
    "        goal=\"Create a well-structured and properly formatted test\",\n",
    "        backstory=\"Expert in organizing test content and ensuring proper formatting.\",\n",
    "        llm=llm,\n",
    "        verbose=True\n",
    "    )\n",
    "\n",
    "    return question_creator, format_specialist\n"
   ]
  },
  {
   "cell_type": "code",
   "execution_count": 6,
   "metadata": {},
   "outputs": [],
   "source": [
    "\n",
    "# Cell 5: Create Tasks\n",
    "def create_tasks(pdf_content: str, question_creator, format_specialist) -> List[Task]:\n",
    "    \"\"\"Create sequential tasks for test generation.\"\"\"\n",
    "    \n",
    "    generate_questions_task = Task(\n",
    "        description=f\"\"\"\n",
    "        Analyze the following content and create 20 test questions:\n",
    "        {pdf_content[:1000]}...  # Truncated for brevity\n",
    "        Ensure questions:\n",
    "        - Cover main topics and key concepts\n",
    "        - Include different difficulty levels\n",
    "        - Test different cognitive skills\n",
    "        \"\"\",\n",
    "        agent=question_creator,\n",
    "        expected_output=\"List of test questions in JSON format.\"\n",
    "    )\n",
    "\n",
    "    format_test_task = Task(\n",
    "        description=\"Organize questions by type, add instructions, and ensure consistent JSON formatting.\",\n",
    "        agent=format_specialist,\n",
    "        dependencies=[generate_questions_task],\n",
    "        expected_output=\"A well-formatted test ready for review.\"\n",
    "    )\n",
    "\n",
    "    return [generate_questions_task, format_test_task]\n"
   ]
  },
  {
   "cell_type": "code",
   "execution_count": 7,
   "metadata": {},
   "outputs": [],
   "source": [
    "\n",
    "# Cell 6: Main Test Generation Function\n",
    "def generate_test(pdf_path: str) -> str:\n",
    "    \"\"\"Execute the test generation process.\"\"\"\n",
    "    try:\n",
    "        # Extract PDF content\n",
    "        pdf_content = extract_pdf_content(pdf_path)\n",
    "        \n",
    "              \n",
    "        # Create agents\n",
    "        question_creator, format_specialist = create_agents(llm)\n",
    "        \n",
    "        # Create tasks\n",
    "        tasks = create_tasks(pdf_content, question_creator, format_specialist)\n",
    "        \n",
    "        # Create and run the crew\n",
    "        crew = Crew(\n",
    "            agents=[question_creator, format_specialist],\n",
    "            tasks=tasks,\n",
    "            verbose=True\n",
    "        )\n",
    "        \n",
    "        # Run the process\n",
    "        result = crew.kickoff()\n",
    "        \n",
    "        return result\n",
    "    \n",
    "    except Exception as e:\n",
    "        raise Exception(f\"Error generating test: {str(e)}\")"
   ]
  },
  {
   "cell_type": "code",
   "execution_count": null,
   "metadata": {},
   "outputs": [
    {
     "name": "stdout",
     "output_type": "stream",
     "text": [
      "\u001b[1m\u001b[95m [DEBUG]: == Working Agent: test question creator\u001b[00m\n",
      "\u001b[1m\u001b[95m [INFO]: == Starting Task: \n",
      "        Analyze the following content and create 20 test questions:\n",
      "        AIR & SPACE OPERATIONS REVIEW   3\n",
      "UNMANNED  AIRCRAFT  SYSTEMSCombat Drones in Ukraine\n",
      "AdAm Lowther\n",
      "mAhbube  K. S iddiKi\n",
      "Drones are playing an important role in the war in Ukraine. Without a large conventional air \n",
      "force, the Ukrainian military is employing a number of high- and low- end imported and domes -\n",
      "tically produced drones to devastating effect against Russian forces. This article examines how \n",
      "Ukrainian and Russian forces are employing these drones and their effects on the battlefield.\n",
      "Ukrainian resistance to Russia’s invasion surprised not only Russian president \n",
      "Vladimir Putin but also Western intelligence agencies and prominent analysts.1 \n",
      "A wide range of drones are among the celebrated systems proving effective for \n",
      "Ukrainian forces, most notably the Baykar Bayraktar TB2. This combat drone now has a \n",
      "song and music video dedicated to its success against Russian troops.2 Aside from this \n",
      "famous battle- tested drone, both sides have other drones now employed in combat. This ...  # Truncated for brevity\n",
      "        Ensure questions:\n",
      "        - Cover main topics and key concepts\n",
      "        - Include different difficulty levels\n",
      "        - Test different cognitive skills\n",
      "        \u001b[00m\n",
      "\n",
      "\n",
      "\u001b[1m> Entering new CrewAgentExecutor chain...\u001b[0m\n"
     ]
    }
   ],
   "source": [
    "\n",
    "# Cell 7: Example Usage\n",
    "# Replace with your PDF path\n",
    "PDF_PATH = \"data/Lowther.pdf\"\n",
    "\n",
    "# Generate test\n",
    "try:\n",
    "    test = generate_test(PDF_PATH)\n",
    "    print(\"Test generated successfully!\")\n",
    "    print(\"\\nGenerated Test:\")\n",
    "    print(\"-\" * 50)\n",
    "    print(test)\n",
    "    \n",
    "    # Optionally save to file\n",
    "    with open(\"generated_test.txt\", \"w\") as f:\n",
    "        f.write(test)\n",
    "    print(\"\\nTest saved to 'generated_test.txt'\")\n",
    "    \n",
    "except Exception as e:\n",
    "    print(f\"Error: {str(e)}\")"
   ]
  }
 ],
 "metadata": {
  "kernelspec": {
   "display_name": ".venv",
   "language": "python",
   "name": "python3"
  },
  "language_info": {
   "codemirror_mode": {
    "name": "ipython",
    "version": 3
   },
   "file_extension": ".py",
   "mimetype": "text/x-python",
   "name": "python",
   "nbconvert_exporter": "python",
   "pygments_lexer": "ipython3",
   "version": "3.11.9"
  }
 },
 "nbformat": 4,
 "nbformat_minor": 2
}
