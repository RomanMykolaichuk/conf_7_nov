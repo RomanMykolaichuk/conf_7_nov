{
 "cells": [
  {
   "cell_type": "markdown",
   "metadata": {},
   "source": [
    "[]()"
   ]
  },
  {
   "cell_type": "markdown",
   "metadata": {},
   "source": [
    "# Usefull links\n",
    "\n",
    "[Poster](https://ideogram.ai/g/VVoqN7T3Ru2yFAGI2MMBvQ/1)\n",
    "\n",
    "## Main topics\n",
    "\n",
    "[Why python and VS code](https://chatgpt.com/share/672b34c4-9c48-8013-ba28-ae5d8f309506)\n",
    "\n",
    "[Local LLM pros & cons](https://www.makeuseof.com/should-you-use-local-llms/)\n",
    "\n",
    "[What is RAG](https://aws.amazon.com/what-is/retrieval-augmented-generation/)\n",
    "\n",
    "[AI agents](https://www.datacamp.com/tutorial/crew-ai)\n",
    "\n",
    "## Open LLM platforms\n",
    "\n",
    "[Ollama](https://ollama.com/)\n",
    "\n",
    "[Groq](https://groq.com/)\n",
    "\n",
    "[Hugging Face](https://huggingface.co/) \n",
    "\n",
    "[Kaggle](https://www.kaggle.com/models)\n",
    "\n",
    "\n",
    "## Learning resources\n",
    "\n",
    "[Learn AI](https://learn.deeplearning.ai/)\n",
    "\n",
    "[MIT course](http://introtodeeplearning.com)\n",
    "\n",
    "[Daniel Bourke](https://www.youtube.com/@mrdbourke)\n",
    "\n",
    "### RAG courses\n",
    "\n",
    "[Building Agentic RAG with Llamaindex](https://learn.deeplearning.ai/courses/building-agentic-rag-with-llamaindex)\n",
    "\n",
    "[Local RAG from Daniel Bourke](https://www.youtube.com/watch?v=qN_2fnOPY-M)\n",
    "\n",
    "### AI agents course\n",
    "\n",
    "[Deeplearning.ai](https://learn.deeplearning.ai/courses/practical-multi-ai-agents-and-advanced-use-cases-with-crewai)\n",
    "\n",
    "\n"
   ]
  }
 ],
 "metadata": {
  "language_info": {
   "name": "python"
  }
 },
 "nbformat": 4,
 "nbformat_minor": 2
}
