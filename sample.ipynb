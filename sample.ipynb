{
 "cells": [
  {
   "cell_type": "code",
   "execution_count": null,
   "metadata": {},
   "outputs": [],
   "source": [
    "# import os\n",
    "\n",
    "# os.environ[\"OPENAI_API_KEY\"] = \"NA\"\n"
   ]
  },
  {
   "cell_type": "code",
   "execution_count": null,
   "metadata": {},
   "outputs": [],
   "source": [
    "%pip install -r requirements.txt"
   ]
  },
  {
   "cell_type": "code",
   "execution_count": null,
   "metadata": {},
   "outputs": [],
   "source": [
    "from llama_index.llms.ollama import Ollama\n",
    "from llama_index.core import Settings\n",
    "\n",
    "\n",
    "llm = Ollama(model=\"llama3\", request_timeout=400.0)\n"
   ]
  },
  {
   "cell_type": "code",
   "execution_count": null,
   "metadata": {},
   "outputs": [],
   "source": []
  },
  {
   "cell_type": "code",
   "execution_count": null,
   "metadata": {},
   "outputs": [],
   "source": [
    "\n",
    "response = llm.complete(\"Хто такий Валерій Залужний. Надай відповідь до 10 слів українською мовою\")\n",
    "print(response)"
   ]
  },
  {
   "cell_type": "code",
   "execution_count": null,
   "metadata": {},
   "outputs": [],
   "source": [
    "prompt = \"Using AI in education - main directions of use. Write in 100 words\"\n",
    "response = llm.complete(prompt)\n",
    "print(response)"
   ]
  },
  {
   "cell_type": "code",
   "execution_count": null,
   "metadata": {},
   "outputs": [],
   "source": [
    "# Деякі приклади запитів у сфері використання AI в дистанційному навчанні (DL)\n",
    "prompts = [\n",
    "    \"How can AI personalize learning experiences in distance education?\",\n",
    "    \"Explain the role of AI in monitoring student progress in online courses.\",\n",
    "    \"What are the benefits of using AI-driven chatbots for student support in DL?\",\n",
    "    \"How can AI help identify at-risk students in distance learning environments?\",\n",
    "    \"Discuss the use of natural language processing in automated assessment in DL.\",\n",
    "    \"How can AI-driven analytics improve student engagement in online education?\",\n",
    "    \"Explain how generative AI can create interactive learning content for DL.\",\n",
    "    \"What are the ethical concerns of using AI in distance learning platforms?\",\n",
    "    \"How can AI be used to provide feedback to students in real-time?\",\n",
    "    \"Discuss the potential of AI in adaptive testing for online education.\"\n",
    "]\n",
    "words_count = 200\n",
    "afterprompt = f\" Use no more {words_count} word\"\n",
    "\n",
    "# Виконання запитів та вивід відповідей\n",
    "for prompt in prompts:\n",
    "    try:\n",
    "        response = llm.complete(prompt+ afterprompt)\n",
    "        print(f\"Prompt: {prompt}\\nResponse: {response}\\n\")\n",
    "    except Exception as e:\n",
    "        print(f\"Error occurred for prompt: '{prompt}'. Error: {str(e)}\")\n",
    "        \n"
   ]
  },
  {
   "cell_type": "code",
   "execution_count": null,
   "metadata": {},
   "outputs": [],
   "source": [
    "prompt = \"What is The Baykar Bayraktar TB2?\"\n",
    "response = llm.complete(prompt)\n",
    "print(response)"
   ]
  },
  {
   "cell_type": "code",
   "execution_count": null,
   "metadata": {},
   "outputs": [],
   "source": [
    "prompt = \"Where was used Bayraktar?\"\n",
    "response = llm.complete(prompt)\n",
    "print(response)"
   ]
  },
  {
   "cell_type": "code",
   "execution_count": null,
   "metadata": {},
   "outputs": [],
   "source": [
    "prompt = \"Визначення штучного інтелекту\"\n",
    "response = llm.complete(prompt)\n",
    "print(response)"
   ]
  }
 ],
 "metadata": {
  "kernelspec": {
   "display_name": ".venv",
   "language": "python",
   "name": "python3"
  },
  "language_info": {
   "codemirror_mode": {
    "name": "ipython",
    "version": 3
   },
   "file_extension": ".py",
   "mimetype": "text/x-python",
   "name": "python",
   "nbconvert_exporter": "python",
   "pygments_lexer": "ipython3",
   "version": "3.11.9"
  }
 },
 "nbformat": 4,
 "nbformat_minor": 2
}
