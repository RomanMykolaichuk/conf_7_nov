{
 "cells": [
  {
   "cell_type": "code",
   "execution_count": 76,
   "metadata": {},
   "outputs": [],
   "source": [
    "#Needed libraries installation (run it once)\n",
    "#%pip install -r requirements.txt"
   ]
  },
  {
   "cell_type": "code",
   "execution_count": 77,
   "metadata": {},
   "outputs": [],
   "source": [
    "import os\n",
    "\n",
    "os.environ[\"OPENAI_API_KEY\"] = \"NA\""
   ]
  },
  {
   "cell_type": "code",
   "execution_count": null,
   "metadata": {},
   "outputs": [],
   "source": [
    "from llama_index.llms.ollama import Ollama\n",
    "\n",
    "llm = Ollama(model=\"llama3.1\", request_timeout=4000.0)"
   ]
  },
  {
   "cell_type": "code",
   "execution_count": 79,
   "metadata": {},
   "outputs": [],
   "source": [
    "from llama_index.core import SimpleDirectoryReader\n",
    "\n",
    "\n",
    "documents = SimpleDirectoryReader(\"data\").load_data()\n",
    "\n"
   ]
  },
  {
   "cell_type": "code",
   "execution_count": 80,
   "metadata": {},
   "outputs": [],
   "source": [
    "from transformers import AutoModel, AutoTokenizer\n",
    "\n",
    "save_directory = \"./local_embedding_model\""
   ]
  },
  {
   "cell_type": "code",
   "execution_count": null,
   "metadata": {},
   "outputs": [],
   "source": [
    "# # Download local embedding model, should be ran only once\n",
    "\n",
    "# model_name = \"BAAI/bge-small-en-v1.5\"\n",
    "\n",
    "\n",
    "# tokenizer = AutoTokenizer.from_pretrained(model_name)\n",
    "# model = AutoModel.from_pretrained(model_name)\n",
    "\n",
    "# # Save to local directory\n",
    "\n",
    "# tokenizer.save_pretrained(save_directory)\n",
    "# model.save_pretrained(save_directory)"
   ]
  },
  {
   "cell_type": "code",
   "execution_count": 82,
   "metadata": {},
   "outputs": [],
   "source": [
    "# Load local model \n",
    "# Load from local directory\n",
    "tokenizer = AutoTokenizer.from_pretrained(save_directory)\n",
    "model = AutoModel.from_pretrained(save_directory)"
   ]
  },
  {
   "cell_type": "code",
   "execution_count": 83,
   "metadata": {},
   "outputs": [],
   "source": [
    "#create embedding function\n",
    "from llama_index.core.embeddings import BaseEmbedding\n",
    "import torch\n",
    "\n",
    "class LocalEmbedding(BaseEmbedding):\n",
    "    def __init__(self, model, tokenizer):\n",
    "        super().__init__()\n",
    "        self._model = model  # Explicitly define with a private attribute\n",
    "        self._tokenizer = tokenizer\n",
    "\n",
    "    def get_text_embedding(self, text):\n",
    "        # Tokenize with truncation to the model's maximum length\n",
    "        inputs = self._tokenizer(text, return_tensors=\"pt\", max_length=512, truncation=True)\n",
    "        with torch.no_grad():\n",
    "            outputs = self._model(**inputs)\n",
    "        # Compute mean of the last hidden state as embedding\n",
    "        embedding = outputs.last_hidden_state.mean(dim=1).squeeze().numpy()\n",
    "        return embedding\n",
    "\n",
    "    # Implement required methods\n",
    "    def _get_query_embedding(self, query):\n",
    "        return self.get_text_embedding(query)\n",
    "\n",
    "    def _get_text_embedding(self, text):\n",
    "        return self.get_text_embedding(text)\n",
    "\n",
    "    async def _aget_query_embedding(self, query):\n",
    "        return self.get_text_embedding(query)\n",
    "\n",
    "# Initialize custom embedding with your model and tokenizer\n",
    "embedding_model = LocalEmbedding(model=model, tokenizer=tokenizer)\n"
   ]
  },
  {
   "cell_type": "code",
   "execution_count": 84,
   "metadata": {},
   "outputs": [
    {
     "name": "stderr",
     "output_type": "stream",
     "text": [
      "Parsing nodes: 100%|██████████| 11/11 [00:00<00:00, 149.30it/s]\n",
      "Generating embeddings: 100%|██████████| 50/50 [00:07<00:00,  7.06it/s]\n"
     ]
    }
   ],
   "source": [
    "from llama_index.core import VectorStoreIndex, Settings\n",
    "\n",
    "\n",
    "# Configure global settings\n",
    "Settings.llm = llm\n",
    "Settings.embed_model = embedding_model\n",
    "# Set the chunk size (number of tokens per chunk)\n",
    "Settings.chunk_size = 256\n",
    "# Set the chunk overlap (number of tokens overlapping between chunks)\n",
    "Settings.chunk_overlap = 64\n",
    "\n",
    "index = VectorStoreIndex.from_documents(documents, show_progress=True)"
   ]
  },
  {
   "cell_type": "code",
   "execution_count": 85,
   "metadata": {},
   "outputs": [],
   "source": [
    "# Set up the retriever from your index\n",
    "top_k = 5\n",
    "retriever = index.as_retriever(similarity_top_k=top_k)\n"
   ]
  },
  {
   "cell_type": "code",
   "execution_count": 86,
   "metadata": {},
   "outputs": [],
   "source": [
    "def get_augmented_prompt(query):\n",
    "    retrieved_documents = retriever.retrieve(query)\n",
    "    # Augment the prompt by including the retrieved documents\n",
    "    # Constructing an augmented prompt with context from retrieved documents\n",
    "    augmented_prompt = f\"Context:\\n\"\n",
    "    for index, doc in enumerate(retrieved_documents):\n",
    "        text = doc.text\n",
    "        print(f\"Retrived {index+1}: {text} \\n\")\n",
    "        augmented_prompt += f\"{text}\\n\"\n",
    "    augmented_prompt += f\"\\nQuestion: {query}\\nPlease provide a concise and accurate answer based on the context.\"\n",
    "    return augmented_prompt\n"
   ]
  },
  {
   "cell_type": "code",
   "execution_count": 87,
   "metadata": {},
   "outputs": [],
   "source": [
    "from IPython.display import Markdown, display\n",
    "\n",
    "# Send the augmented prompt to a language model for a synthesized response\n",
    "def get_RAG_response(query):    \n",
    "    response = llm.complete(get_augmented_prompt(query))\n",
    "    return response\n"
   ]
  },
  {
   "cell_type": "code",
   "execution_count": 88,
   "metadata": {},
   "outputs": [
    {
     "name": "stdout",
     "output_type": "stream",
     "text": [
      "Retrived 1: Lowther & SiddikiAIR & SPACE OPERATIONS REVIEW   5defense technologies and began to modernize the military.10 These efforts included coop -\n",
      "erating with many Western nations to acquire state- of- the- art military hardware and \n",
      "software. In this regard, Ukraine’s homegrown military drone technology was relatively \n",
      "young when Russia invaded in February 2022.11 Many drones Ukraine has deployed \n",
      "against Russia were purchased from foreign nations, with Turkey leading the list of sup -\n",
      "pliers before the start of the war.\n",
      "Baykar Bayraktar TB2\n",
      "The Baykar Bayraktar TB2 is a medium- altitude, long- endurance unmanned combat \n",
      "aerial vehicle that, according to the manufacturer, is capable of remotely controlled or \n",
      "autonomous flight operations. This immensely popular drone is manufactured by the \n",
      "Turkish defense company Baykar Defense.12 The manufacturer’s primary objective is to \n",
      "build a less expensive alternative to Western drones, primarily for the Turkish Armed \n",
      "Forces. \n",
      "\n",
      "Retrived 2: This immensely popular drone is manufactured by the \n",
      "Turkish defense company Baykar Defense.12 The manufacturer’s primary objective is to \n",
      "build a less expensive alternative to Western drones, primarily for the Turkish Armed \n",
      "Forces. Although it is not comparable to state- of- the- art American drones like General \n",
      "Atomics’ MQ-9 Reaper or Northrop Grumman’s RQ-4 Global Hawk, its appeal lies in a \n",
      "brutally efficient cost- benefit calculation on the battlefield.\n",
      "The TB2 can fly for almost 24 hours at a maximum altitude of 25,000 feet. It is 6.5 \n",
      "meters (approximately 21 feet) long with a wingspan of 12 meters (approximately 39 feet) \n",
      "and a maximum take- off weight of 650 kilograms (1,433 pounds).13 Commonly called the \n",
      "Bayraktar, it can be equipped with four laser- guided bombs. \n",
      "\n",
      "Retrived 3: Notably, these bombs are prov -\n",
      "ing incredibly effective against Russian tanks and other armored vehicles.14\n",
      "Before its appearance in Ukraine, this drone was used in Syria, Libya, and Azerbaijan.15 \n",
      "In 2019, the Armed Forces of Ukraine began acquiring the Bayraktar TB2S, then up -\n",
      "graded to the TB2 as a part of its military modernization program. 16 Outmanned, out -\n",
      "gunned, and primarily relying on unbreakable resolve, Ukrainian forces have found this \n",
      "drone to be very effective as a force multiplier.17\n",
      "10. Ted Galen Carpenter, “Whitewashing Ukraine’s Corruption,” Cato Institute (website), April 6, 2022, \n",
      "https://www.cato.org/ ; and Liam Collins, “In 2014, the ‘Decrepit’ Ukrainian Army Hit the Refresh Button. \n",
      "Eight Years Later, It’s Paying Off,” The Conversation, March 8, 2022, https://theconversation.com/ .\n",
      "11. \n",
      "\n",
      "Retrived 4: Hetzner, “Cheap, Slow, and Bulky.”\n",
      "19. Andrew Roth, “Drone Crashes into Russian Oil Refinery in Possible Attack,” Guardian , June 22, \n",
      "2022, https://www.theguardian.com/ .\n",
      "20. Stavros Atlamazoglou, “Why the Bayraktar TB2 Drone Was Such a Game Changer in Ukraine,” \n",
      "1945 , May 31, 2022, https://www.19fortyfive.com/ .\n",
      "21. Dylan Malyasov, “Russia Shoots Down 6 Ukrainian Bayraktar TB-2 Drones,” Defence Blog, April \n",
      "28, 2022, https://defence- blog.com/ .\n",
      "22. “Turkish TB2 Falling Like Flies, Another Ukrainian TB2 Drone Shot Down by Russia,” Defense \n",
      "View, July 27, 2022, https://www.defenceview.in/ .\n",
      "23. \n",
      "\n",
      "Retrived 5: Putin further perfected these tactics—“siege, destroy, and take \n",
      "over”—with a heavy reliance on airpower and private military contractors in the Syrian \n",
      "1. Zack Beauchamp, “Why the First Few Days of War in Ukraine Went Badly for Russia,” Vox, February \n",
      "28, 2022, https://www.vox.com/ .\n",
      "2. _Skrrq_, “Bayraktar—Official Song (English),” March 2, 2022, YouTube video, https://www.youtube  \n",
      ".com/ .\n",
      "3. Florian Zandt, “Chart: 6.8 Million Seeking Refuge from Russian Invasion,” Statista, June 2, 2022, \n",
      "https://www.statista.com/ .Dr. Adam Lowther, director of  strategic deterrence programs at the National Strategic Research Institute, is the editor of  Guide \n",
      "to Nuclear Deterrence in the Age of Great Power Competition  (2020).\n",
      "Dr. Mahbube Siddiki serves as multidomain operations faculty at the Army Management Staff  College. \n",
      "\n"
     ]
    },
    {
     "data": {
      "text/markdown": [
       "## <b>Response:</b> \n",
       " #### The Bayraktar TB2 is a medium-altitude, long-endurance unmanned combat aerial vehicle (drone) manufactured by the Turkish defense company Baykar Defense. It is a less expensive alternative to Western drones, primarily designed for the Turkish Armed Forces, but has proven effective in various conflicts, including Ukraine's war against Russia."
      ],
      "text/plain": [
       "<IPython.core.display.Markdown object>"
      ]
     },
     "metadata": {},
     "output_type": "display_data"
    }
   ],
   "source": [
    "query = \"What is the Bayraktar?\"\n",
    "response = get_RAG_response(query)\n",
    "display(Markdown(f\"## <b>Response:</b> \\n #### {response}\"))\n"
   ]
  },
  {
   "cell_type": "code",
   "execution_count": 89,
   "metadata": {},
   "outputs": [
    {
     "name": "stdout",
     "output_type": "stream",
     "text": [
      "Retrived 1: Lowther & SiddikiAIR & SPACE OPERATIONS REVIEW   5defense technologies and began to modernize the military.10 These efforts included coop -\n",
      "erating with many Western nations to acquire state- of- the- art military hardware and \n",
      "software. In this regard, Ukraine’s homegrown military drone technology was relatively \n",
      "young when Russia invaded in February 2022.11 Many drones Ukraine has deployed \n",
      "against Russia were purchased from foreign nations, with Turkey leading the list of sup -\n",
      "pliers before the start of the war.\n",
      "Baykar Bayraktar TB2\n",
      "The Baykar Bayraktar TB2 is a medium- altitude, long- endurance unmanned combat \n",
      "aerial vehicle that, according to the manufacturer, is capable of remotely controlled or \n",
      "autonomous flight operations. This immensely popular drone is manufactured by the \n",
      "Turkish defense company Baykar Defense.12 The manufacturer’s primary objective is to \n",
      "build a less expensive alternative to Western drones, primarily for the Turkish Armed \n",
      "Forces. \n",
      "\n",
      "Retrived 2: Notably, these bombs are prov -\n",
      "ing incredibly effective against Russian tanks and other armored vehicles.14\n",
      "Before its appearance in Ukraine, this drone was used in Syria, Libya, and Azerbaijan.15 \n",
      "In 2019, the Armed Forces of Ukraine began acquiring the Bayraktar TB2S, then up -\n",
      "graded to the TB2 as a part of its military modernization program. 16 Outmanned, out -\n",
      "gunned, and primarily relying on unbreakable resolve, Ukrainian forces have found this \n",
      "drone to be very effective as a force multiplier.17\n",
      "10. Ted Galen Carpenter, “Whitewashing Ukraine’s Corruption,” Cato Institute (website), April 6, 2022, \n",
      "https://www.cato.org/ ; and Liam Collins, “In 2014, the ‘Decrepit’ Ukrainian Army Hit the Refresh Button. \n",
      "Eight Years Later, It’s Paying Off,” The Conversation, March 8, 2022, https://theconversation.com/ .\n",
      "11. \n",
      "\n",
      "Retrived 3: This immensely popular drone is manufactured by the \n",
      "Turkish defense company Baykar Defense.12 The manufacturer’s primary objective is to \n",
      "build a less expensive alternative to Western drones, primarily for the Turkish Armed \n",
      "Forces. Although it is not comparable to state- of- the- art American drones like General \n",
      "Atomics’ MQ-9 Reaper or Northrop Grumman’s RQ-4 Global Hawk, its appeal lies in a \n",
      "brutally efficient cost- benefit calculation on the battlefield.\n",
      "The TB2 can fly for almost 24 hours at a maximum altitude of 25,000 feet. It is 6.5 \n",
      "meters (approximately 21 feet) long with a wingspan of 12 meters (approximately 39 feet) \n",
      "and a maximum take- off weight of 650 kilograms (1,433 pounds).13 Commonly called the \n",
      "Bayraktar, it can be equipped with four laser- guided bombs. \n",
      "\n",
      "Retrived 4: Hetzner, “Cheap, Slow, and Bulky.”\n",
      "19. Andrew Roth, “Drone Crashes into Russian Oil Refinery in Possible Attack,” Guardian , June 22, \n",
      "2022, https://www.theguardian.com/ .\n",
      "20. Stavros Atlamazoglou, “Why the Bayraktar TB2 Drone Was Such a Game Changer in Ukraine,” \n",
      "1945 , May 31, 2022, https://www.19fortyfive.com/ .\n",
      "21. Dylan Malyasov, “Russia Shoots Down 6 Ukrainian Bayraktar TB-2 Drones,” Defence Blog, April \n",
      "28, 2022, https://defence- blog.com/ .\n",
      "22. “Turkish TB2 Falling Like Flies, Another Ukrainian TB2 Drone Shot Down by Russia,” Defense \n",
      "View, July 27, 2022, https://www.defenceview.in/ .\n",
      "23. \n",
      "\n",
      "Retrived 5: Putin further perfected these tactics—“siege, destroy, and take \n",
      "over”—with a heavy reliance on airpower and private military contractors in the Syrian \n",
      "1. Zack Beauchamp, “Why the First Few Days of War in Ukraine Went Badly for Russia,” Vox, February \n",
      "28, 2022, https://www.vox.com/ .\n",
      "2. _Skrrq_, “Bayraktar—Official Song (English),” March 2, 2022, YouTube video, https://www.youtube  \n",
      ".com/ .\n",
      "3. Florian Zandt, “Chart: 6.8 Million Seeking Refuge from Russian Invasion,” Statista, June 2, 2022, \n",
      "https://www.statista.com/ .Dr. Adam Lowther, director of  strategic deterrence programs at the National Strategic Research Institute, is the editor of  Guide \n",
      "to Nuclear Deterrence in the Age of Great Power Competition  (2020).\n",
      "Dr. Mahbube Siddiki serves as multidomain operations faculty at the Army Management Staff  College. \n",
      "\n"
     ]
    },
    {
     "data": {
      "text/markdown": [
       "## <b>Response:</b> \n",
       " #### According to the text, the Bayraktar TB2 drone was used in:\n",
       "\n",
       "1. Syria\n",
       "2. Libya\n",
       "3. Azerbaijan\n",
       "4. Ukraine (specifically against Russian tanks and armored vehicles)\n",
       "\n",
       "Additionally, it is mentioned that the Bayraktar TB2S was upgraded to the standard TB2 as part of Ukraine's military modernization program in 2019."
      ],
      "text/plain": [
       "<IPython.core.display.Markdown object>"
      ]
     },
     "metadata": {},
     "output_type": "display_data"
    }
   ],
   "source": [
    "query = \"Where was used Bayraktar?\"\n",
    "response = get_RAG_response(query)\n",
    "display(Markdown(f\"## <b>Response:</b> \\n #### {response}\"))"
   ]
  },
  {
   "cell_type": "code",
   "execution_count": 90,
   "metadata": {},
   "outputs": [
    {
     "name": "stdout",
     "output_type": "stream",
     "text": [
      "Retrived 1: Lowther & SiddikiAIR & SPACE OPERATIONS REVIEW   5defense technologies and began to modernize the military.10 These efforts included coop -\n",
      "erating with many Western nations to acquire state- of- the- art military hardware and \n",
      "software. In this regard, Ukraine’s homegrown military drone technology was relatively \n",
      "young when Russia invaded in February 2022.11 Many drones Ukraine has deployed \n",
      "against Russia were purchased from foreign nations, with Turkey leading the list of sup -\n",
      "pliers before the start of the war.\n",
      "Baykar Bayraktar TB2\n",
      "The Baykar Bayraktar TB2 is a medium- altitude, long- endurance unmanned combat \n",
      "aerial vehicle that, according to the manufacturer, is capable of remotely controlled or \n",
      "autonomous flight operations. This immensely popular drone is manufactured by the \n",
      "Turkish defense company Baykar Defense.12 The manufacturer’s primary objective is to \n",
      "build a less expensive alternative to Western drones, primarily for the Turkish Armed \n",
      "Forces. \n",
      "\n",
      "Retrived 2: Notably, these bombs are prov -\n",
      "ing incredibly effective against Russian tanks and other armored vehicles.14\n",
      "Before its appearance in Ukraine, this drone was used in Syria, Libya, and Azerbaijan.15 \n",
      "In 2019, the Armed Forces of Ukraine began acquiring the Bayraktar TB2S, then up -\n",
      "graded to the TB2 as a part of its military modernization program. 16 Outmanned, out -\n",
      "gunned, and primarily relying on unbreakable resolve, Ukrainian forces have found this \n",
      "drone to be very effective as a force multiplier.17\n",
      "10. Ted Galen Carpenter, “Whitewashing Ukraine’s Corruption,” Cato Institute (website), April 6, 2022, \n",
      "https://www.cato.org/ ; and Liam Collins, “In 2014, the ‘Decrepit’ Ukrainian Army Hit the Refresh Button. \n",
      "Eight Years Later, It’s Paying Off,” The Conversation, March 8, 2022, https://theconversation.com/ .\n",
      "11. \n",
      "\n",
      "Retrived 3: This immensely popular drone is manufactured by the \n",
      "Turkish defense company Baykar Defense.12 The manufacturer’s primary objective is to \n",
      "build a less expensive alternative to Western drones, primarily for the Turkish Armed \n",
      "Forces. Although it is not comparable to state- of- the- art American drones like General \n",
      "Atomics’ MQ-9 Reaper or Northrop Grumman’s RQ-4 Global Hawk, its appeal lies in a \n",
      "brutally efficient cost- benefit calculation on the battlefield.\n",
      "The TB2 can fly for almost 24 hours at a maximum altitude of 25,000 feet. It is 6.5 \n",
      "meters (approximately 21 feet) long with a wingspan of 12 meters (approximately 39 feet) \n",
      "and a maximum take- off weight of 650 kilograms (1,433 pounds).13 Commonly called the \n",
      "Bayraktar, it can be equipped with four laser- guided bombs. \n",
      "\n",
      "Retrived 4: Hetzner, “Cheap, Slow, and Bulky.”\n",
      "19. Andrew Roth, “Drone Crashes into Russian Oil Refinery in Possible Attack,” Guardian , June 22, \n",
      "2022, https://www.theguardian.com/ .\n",
      "20. Stavros Atlamazoglou, “Why the Bayraktar TB2 Drone Was Such a Game Changer in Ukraine,” \n",
      "1945 , May 31, 2022, https://www.19fortyfive.com/ .\n",
      "21. Dylan Malyasov, “Russia Shoots Down 6 Ukrainian Bayraktar TB-2 Drones,” Defence Blog, April \n",
      "28, 2022, https://defence- blog.com/ .\n",
      "22. “Turkish TB2 Falling Like Flies, Another Ukrainian TB2 Drone Shot Down by Russia,” Defense \n",
      "View, July 27, 2022, https://www.defenceview.in/ .\n",
      "23. \n",
      "\n",
      "Retrived 5: Putin further perfected these tactics—“siege, destroy, and take \n",
      "over”—with a heavy reliance on airpower and private military contractors in the Syrian \n",
      "1. Zack Beauchamp, “Why the First Few Days of War in Ukraine Went Badly for Russia,” Vox, February \n",
      "28, 2022, https://www.vox.com/ .\n",
      "2. _Skrrq_, “Bayraktar—Official Song (English),” March 2, 2022, YouTube video, https://www.youtube  \n",
      ".com/ .\n",
      "3. Florian Zandt, “Chart: 6.8 Million Seeking Refuge from Russian Invasion,” Statista, June 2, 2022, \n",
      "https://www.statista.com/ .Dr. Adam Lowther, director of  strategic deterrence programs at the National Strategic Research Institute, is the editor of  Guide \n",
      "to Nuclear Deterrence in the Age of Great Power Competition  (2020).\n",
      "Dr. Mahbube Siddiki serves as multidomain operations faculty at the Army Management Staff  College. \n",
      "\n"
     ]
    },
    {
     "data": {
      "text/markdown": [
       "## <b>Response:</b> \n",
       " #### The Bayraktar TB2 drone was used in:\n",
       "\n",
       "* Syria\n",
       "* Libya\n",
       "* Azerbaijan\n",
       "* Ukraine (particularly during the Russian invasion in February 2022)"
      ],
      "text/plain": [
       "<IPython.core.display.Markdown object>"
      ]
     },
     "metadata": {},
     "output_type": "display_data"
    }
   ],
   "source": [
    "\n",
    "query = \"Where was used Bayraktar?\"\n",
    "response = get_RAG_response(query)\n",
    "display(Markdown(f\"## <b>Response:</b> \\n #### {response}\"))"
   ]
  },
  {
   "cell_type": "code",
   "execution_count": 93,
   "metadata": {},
   "outputs": [
    {
     "name": "stdout",
     "output_type": "stream",
     "text": [
      "Retrived 1: Russia has not disclosed how many Orion drones it operates in Ukraine, but it has \n",
      "claimed the drone has been used to attack Ukrainian positions successfully. Simultane -\n",
      "ously, online photographic evidence shows the Ukrainians shot down at least one Orion- E.48\n",
      "As the previous discussion of Russian drones in Ukraine suggests, Russia’s claims that \n",
      "it fields state- of- the- art drones are certainly questionable.49 To suggest Russia lacks \n",
      "dominance may be a generous description of the state of Russian capabilities. Simply \n",
      "stated, Russian drones are rarely in evidence in Ukraine. This failure is leading to specula -\n",
      "tion among analysts that follow the war in Ukraine that Russian drones are being held in \n",
      "reserve for a later escalation in the conflict.50\n",
      "Others suggest logistical issues constrain drone use—as evidenced by the widespread \n",
      "reports of abandoned and broken Russian military vehicles.51 This is prompting some to \n",
      "conclude Russia may not be able to support drone operations in Ukraine. \n",
      "\n",
      "Retrived 2: AIR & SPACE OPERATIONS REVIEW   3\n",
      "UNMANNED  AIRCRAFT  SYSTEMSCombat Drones in Ukraine\n",
      "AdAm Lowther\n",
      "mAhbube  K. S iddiKi\n",
      "Drones are playing an important role in the war in Ukraine. Without a large conventional air \n",
      "force, the Ukrainian military is employing a number of high- and low- end imported and domes -\n",
      "tically produced drones to devastating effect against Russian forces. This article examines how \n",
      "Ukrainian and Russian forces are employing these drones and their effects on the battlefield.\n",
      "Ukrainian resistance to Russia’s invasion surprised not only Russian president \n",
      "Vladimir Putin but also Western intelligence agencies and prominent analysts.1 \n",
      "A wide range of drones are among the celebrated systems proving effective for \n",
      "Ukrainian forces, most notably the Baykar Bayraktar TB2. This combat drone now has a \n",
      "song and music video dedicated to its success against Russian troops.2 Aside from this \n",
      "famous battle- tested drone, both sides have other drones now employed in combat. \n",
      "\n",
      "Retrived 3: Illia Ponomarenko, “Who Can and Can’t Join Ukraine’s Territorial Defense Force,” Kyiv Independent , \n",
      "January 7, 2022, https://kyivindependent.com/ .\n",
      "27. Ben Kesslen, “Ukrainians Develop Drone That Drops Molotov Cocktails,” New York Post , March 10, \n",
      "2022, https://nypost.com/ .\n",
      "28. “Chinese Drone Maker DJI Is Equipping Both Ukraine and Russia,” SOFREP , August 18, 2022, \n",
      "https://sofrep.com/ .\n",
      "29. “The Warmate,” WB Group (website), accessed September 19, 2022, https://www.wbgroup.pl/ .\n",
      "30. Jonathan Baran, “Kamikaze Drones Are Showing Up in Bigger Numbers in Ukraine,” Washington \n",
      "Post, March 24, 2022, https://www.washingtonpost.com/ . \n",
      "\n",
      "Retrived 4: 32. Ken Dilanian, Dan DeLuce, and Courtney Kube, “Biden Admin Will Provide Ukraine Killer Drones \n",
      "Called Switchblades,” NBC News, March 15, 2022, https://www.nbcnews.com/ .\n",
      "33. “TU-141 VR-2, Strizh (SWIFT),” Global Security (website),  n.d., accessed October 27, 2022, \n",
      "https://www.globalsecurity.org/ .\n",
      "34. Tyler Rogoway, “Tu-141 ‘Strizh’ Missile- Like Drone from the War in Ukraine Looks to Have \n",
      "Crashed in Croatia (Updated),” The Drive, March 11, 2022 , https://www.thedrive.com/ .\n",
      "35. Radio Free Europe (RFE)/Radio Liberty’s Balkan Service, “Drone That Crashed Last Month in \n",
      "Zagreb Was Carrying Explosives, Investigators Say,” RFE , April 13, 2022, https://www.rferl.org/ .\n",
      "36. \n",
      "\n",
      "Retrived 5: 22. “Turkish TB2 Falling Like Flies, Another Ukrainian TB2 Drone Shot Down by Russia,” Defense \n",
      "View, July 27, 2022, https://www.defenceview.in/ .\n",
      "23. Alia Shoaib, “Ukraine’s Army Is Using a Nimble ‘Game- Changing’ Drone Called the Punisher That \n",
      "Has Completed Scores of Successful Missions against the Russians, Says Reports,” Business Insider , March 5, \n",
      "2022, https://www.businessinsider.com/ .\n",
      "24. Bruce Crumley, “Ukraine’s Mid- Size Punisher Drone Is Living Up to Its Name against Russian \n",
      "Forces,” Drone DJ,  March 8, 2022, https://dronedj.com/ .\n",
      "25. “Reusable Airstrike Drone with the Cheapest Cost of Mission in the World,” UA Dynamics, March \n",
      "31, 2022) https://uadynamics.com . \n",
      "\n"
     ]
    },
    {
     "data": {
      "text/markdown": [
       "## <b>Response:</b> \n",
       " #### Based on the provided text, here is the list of Ukrainian drones mentioned:\n",
       "\n",
       "1. Bayraktar TB2 (imported)\n",
       "2. Warmate (domestically produced)\n",
       "3. Punisher (mid-size drone, domestically produced)\n",
       "\n",
       "Note that there are also mentions of other drones being used by Ukraine, such as those developed by UA Dynamics and potentially others from Chinese manufacturer DJI, but the above list only includes the specific drones mentioned in the text."
      ],
      "text/plain": [
       "<IPython.core.display.Markdown object>"
      ]
     },
     "metadata": {},
     "output_type": "display_data"
    }
   ],
   "source": [
    "query = \"Ukraine’s Drones. Give me the list of the drone's names. Exclude russian's drones\"\n",
    "response = get_RAG_response(query)\n",
    "display(Markdown(f\"## <b>Response:</b> \\n #### {response}\"))"
   ]
  }
 ],
 "metadata": {
  "kernelspec": {
   "display_name": ".venv",
   "language": "python",
   "name": "python3"
  },
  "language_info": {
   "codemirror_mode": {
    "name": "ipython",
    "version": 3
   },
   "file_extension": ".py",
   "mimetype": "text/x-python",
   "name": "python",
   "nbconvert_exporter": "python",
   "pygments_lexer": "ipython3",
   "version": "3.11.9"
  }
 },
 "nbformat": 4,
 "nbformat_minor": 2
}
