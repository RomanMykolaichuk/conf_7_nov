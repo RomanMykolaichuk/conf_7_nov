{
 "cells": [
  {
   "cell_type": "code",
   "execution_count": 1,
   "metadata": {},
   "outputs": [],
   "source": [
    "#%pip install -r requirements.txt"
   ]
  },
  {
   "cell_type": "code",
   "execution_count": 2,
   "metadata": {},
   "outputs": [],
   "source": [
    "import os\n",
    "\n",
    "os.environ[\"OPENAI_API_KEY\"] = \"NA\""
   ]
  },
  {
   "cell_type": "code",
   "execution_count": 3,
   "metadata": {},
   "outputs": [],
   "source": [
    "from llama_index.llms.ollama import Ollama\n",
    "\n",
    "llm = Ollama(model=\"llama3\", request_timeout=4000.0)"
   ]
  },
  {
   "cell_type": "code",
   "execution_count": 4,
   "metadata": {},
   "outputs": [
    {
     "name": "stderr",
     "output_type": "stream",
     "text": [
      "c:\\datascience\\conf_7_nov\\.venv\\Lib\\site-packages\\tqdm\\auto.py:21: TqdmWarning: IProgress not found. Please update jupyter and ipywidgets. See https://ipywidgets.readthedocs.io/en/stable/user_install.html\n",
      "  from .autonotebook import tqdm as notebook_tqdm\n",
      "c:\\datascience\\conf_7_nov\\.venv\\Lib\\site-packages\\huggingface_hub\\file_download.py:139: UserWarning: `huggingface_hub` cache-system uses symlinks by default to efficiently store duplicated files but your machine does not support them in C:\\Users\\38068\\AppData\\Local\\llama_index\\models--BAAI--bge-small-en-v1.5. Caching files will still work but in a degraded version that might require more space on your disk. This warning can be disabled by setting the `HF_HUB_DISABLE_SYMLINKS_WARNING` environment variable. For more details, see https://huggingface.co/docs/huggingface_hub/how-to-cache#limitations.\n",
      "To support symlinks on Windows, you either need to activate Developer Mode or to run Python as an administrator. In order to activate developer mode, see this article: https://docs.microsoft.com/en-us/windows/apps/get-started/enable-your-device-for-development\n",
      "  warnings.warn(message)\n"
     ]
    }
   ],
   "source": [
    "from llama_index.core import SimpleDirectoryReader\n",
    "from llama_index.embeddings.huggingface import HuggingFaceEmbedding\n",
    "\n",
    "documents = SimpleDirectoryReader(\"data\").load_data()\n",
    "\n",
    "\n",
    "# loads BAAI/bge-small-en-v1.5\n",
    "embed_model = HuggingFaceEmbedding('BAAI/bge-small-en-v1.5')\n",
    "\n"
   ]
  },
  {
   "cell_type": "code",
   "execution_count": 5,
   "metadata": {},
   "outputs": [],
   "source": [
    "import chromadb\n",
    "from llama_index.core import VectorStoreIndex, Settings\n",
    "from llama_index.vector_stores.chroma import ChromaVectorStore\n",
    "from llama_index.core import StorageContext\n"
   ]
  },
  {
   "cell_type": "code",
   "execution_count": 6,
   "metadata": {},
   "outputs": [],
   "source": [
    "# Configure global settings\n",
    "Settings.llm = llm\n",
    "Settings.embed_model = embed_model"
   ]
  },
  {
   "cell_type": "code",
   "execution_count": 10,
   "metadata": {},
   "outputs": [
    {
     "name": "stderr",
     "output_type": "stream",
     "text": [
      "Parsing nodes: 100%|██████████| 11/11 [00:00<00:00, 687.16it/s]\n",
      "Generating embeddings: 100%|██████████| 11/11 [00:04<00:00,  2.25it/s]\n"
     ]
    }
   ],
   "source": [
    "\n",
    "index = VectorStoreIndex.from_documents(documents, show_progress=True)"
   ]
  },
  {
   "cell_type": "code",
   "execution_count": null,
   "metadata": {},
   "outputs": [
    {
     "data": {
      "text/plain": [
       "'Lowther & SiddikiAIR & SPACE OPERATIONS REVIEW   5defense technologies and began to modernize the military.10 These efforts included coop -\\nerating with many Western nations to acquire state- of- the- art military hardware and \\nsoftware. In this regard, Ukraine’s homegrown military drone technology was relatively \\nyoung when Russia invaded in February 2022.11 Many drones Ukraine has deployed \\nagainst Russia were purchased from foreign nations, with Turkey leading the list of sup -\\npliers before the start of the war.\\nBaykar Bayraktar TB2\\nThe Baykar Bayraktar TB2 is a medium- altitude, long- endurance unmanned combat \\naerial vehicle that, according to the manufacturer, is capable of remotely controlled or \\nautonomous flight operations. This immensely popular drone is manufactured by the \\nTurkish defense company Baykar Defense.12 The manufacturer’s primary objective is to \\nbuild a less expensive alternative to Western drones, primarily for the Turkish Armed \\nForces. Although it is not comparable to state- of- the- art American drones like General \\nAtomics’ MQ-9 Reaper or Northrop Grumman’s RQ-4 Global Hawk, its appeal lies in a \\nbrutally efficient cost- benefit calculation on the battlefield.\\nThe TB2 can fly for almost 24 hours at a maximum altitude of 25,000 feet. It is 6.5 \\nmeters (approximately 21 feet) long with a wingspan of 12 meters (approximately 39 feet) \\nand a maximum take- off weight of 650 kilograms (1,433 pounds).13 Commonly called the \\nBayraktar, it can be equipped with four laser- guided bombs. Notably, these bombs are prov -\\ning incredibly effective against Russian tanks and other armored vehicles.14\\nBefore its appearance in Ukraine, this drone was used in Syria, Libya, and Azerbaijan.15 \\nIn 2019, the Armed Forces of Ukraine began acquiring the Bayraktar TB2S, then up -\\ngraded to the TB2 as a part of its military modernization program. 16 Outmanned, out -\\ngunned, and primarily relying on unbreakable resolve, Ukrainian forces have found this \\ndrone to be very effective as a force multiplier.17\\n10. Ted Galen Carpenter, “Whitewashing Ukraine’s Corruption,” Cato Institute (website), April 6, 2022, \\nhttps://www.cato.org/ ; and Liam Collins, “In 2014, the ‘Decrepit’ Ukrainian Army Hit the Refresh Button. \\nEight Years Later, It’s Paying Off,” The Conversation, March 8, 2022, https://theconversation.com/ .\\n11. John Wendle, “The Fighting Drones of Ukraine,” Air & Space Magazine , February 2018, https://www  \\n.smithsonianmag.com/ .\\n12. Baykar Technology, “Bayraktar TB2,” Baykar Technology (website), accessed September 21, 2022, \\nhttps://www.baykartech.com/ .\\n13. Baykar Technology, “Bayraktar TB2.”\\n14. Christiaan Hetzner, “The Cheap, Slow, and Bulky Drones Taking Down Russian Armored Tanks for \\nUkraine,” Fortune , March 4, 2022, https://fortune.com/ .\\n15. Scott Crino and Andy Dreby, “Turkey’s Drone War in Syria—A Red Team View,” Small Wars Jour -\\nnal, April 16, 2020, https://smallwarsjournal.com/ .\\n16. “Ukrainian Navy Has Received First Unit of Turkish- Produced Bayraktar TB2 UCAV System,” De -\\nfense Express, July 18, 2021, https://en.defence- ua.com/ .\\n17. Aaron Stein, “The TB2: The Value of a Cheap and ‘Good Enough’ Drone,” Airpower after Ukraine \\nseries, Atlantic Council (website), August 30, 2022, https://www.atlanticcouncil.org/ .'"
      ]
     },
     "execution_count": 15,
     "metadata": {},
     "output_type": "execute_result"
    }
   ],
   "source": [
    "# Set up the retriever from your index\n",
    "top_k = 3\n",
    "retriever = index.as_retriever(similarity_top_k=top_k)\n"
   ]
  },
  {
   "cell_type": "code",
   "execution_count": 19,
   "metadata": {},
   "outputs": [],
   "source": [
    "def get_augmented_prompt(query):\n",
    "    retrieved_documents = retriever.retrieve(query)\n",
    "    # Augment the prompt by including the retrieved documents\n",
    "    # Constructing an augmented prompt with context from retrieved documents\n",
    "    augmented_prompt = f\"Context:\\n\"\n",
    "    for doc in retrieved_documents:\n",
    "        text = doc.text\n",
    "        augmented_prompt += f\"{text}\\n\"\n",
    "    augmented_prompt += f\"\\nQuestion: {query}\\nPlease provide a concise and accurate answer based on the context.\"\n",
    "    return augmented_prompt\n"
   ]
  },
  {
   "cell_type": "code",
   "execution_count": 26,
   "metadata": {},
   "outputs": [],
   "source": [
    "from IPython.display import Markdown, display\n",
    "\n",
    "# Send the augmented prompt to a language model for a synthesized response\n",
    "def get_RAG_response(query):    \n",
    "    response = llm.complete(get_augmented_prompt(query))\n",
    "    return response\n"
   ]
  },
  {
   "cell_type": "code",
   "execution_count": null,
   "metadata": {},
   "outputs": [],
   "source": [
    "query = \"What is the Bayraktar T2?\"\n",
    "response = get_RAG_response(query)\n",
    "display(Markdown(f\"## <b>Response:</b> \\n #### {response}\"))\n"
   ]
  },
  {
   "cell_type": "code",
   "execution_count": null,
   "metadata": {},
   "outputs": [
    {
     "data": {
      "text/markdown": [
       "## <b>Response:</b> \n",
       " #### According to the text, the Baykar Bayraktar TB2 drone was used in Syria, Libya, and Azerbaijan before its appearance in Ukraine."
      ],
      "text/plain": [
       "<IPython.core.display.Markdown object>"
      ]
     },
     "metadata": {},
     "output_type": "display_data"
    }
   ],
   "source": [
    "query = \"Where was used Bayraktar?\"\n",
    "response = get_RAG_response(query)\n",
    "display(Markdown(f\"## <b>Response:</b> \\n #### {response}\"))"
   ]
  },
  {
   "cell_type": "code",
   "execution_count": null,
   "metadata": {},
   "outputs": [
    {
     "data": {
      "text/markdown": [
       "## <b>Response:</b> \n",
       " #### According to the text, before its appearance in Ukraine, the Bayraktar TB2 drone was used in Syria, Libya, and Azerbaijan."
      ],
      "text/plain": [
       "<IPython.core.display.Markdown object>"
      ]
     },
     "metadata": {},
     "output_type": "display_data"
    }
   ],
   "source": [
    "\n",
    "query = \"Where was used Bayraktar?\"\n",
    "response = get_RAG_response(query)\n",
    "display(Markdown(f\"## <b>Response:</b> \\n #### {response}\"))"
   ]
  },
  {
   "cell_type": "code",
   "execution_count": 29,
   "metadata": {},
   "outputs": [
    {
     "data": {
      "text/markdown": [
       "## <b>Response:</b> \n",
       " #### According to the text, the Baykar Bayraktar TB2 is a medium-altitude, long-endurance unmanned combat aerial vehicle (UCAV) manufactured by Turkish defense company Baykar Defense. It has a number of practical uses, including:\n",
       "\n",
       "* Flying for almost 24 hours at a maximum altitude of 25,000 feet\n",
       "* Being equipped with four laser-guided bombs, which are proving effective against Russian tanks and other armored vehicles\n",
       "* Being used in Syria, Libya, and Azerbaijan before being acquired by the Ukrainian military as part of its modernization program\n",
       "* Proving to be a force multiplier for Ukrainian forces, helping them outmaneuver and outgun Russian troops."
      ],
      "text/plain": [
       "<IPython.core.display.Markdown object>"
      ]
     },
     "metadata": {},
     "output_type": "display_data"
    }
   ],
   "source": [
    "\n",
    "query = \"Tell me about Bayraktar practical using\"\n",
    "response = get_RAG_response(query)\n",
    "display(Markdown(f\"## <b>Response:</b> \\n #### {response}\"))"
   ]
  },
  {
   "cell_type": "code",
   "execution_count": 30,
   "metadata": {},
   "outputs": [
    {
     "data": {
      "text/markdown": [
       "## <b>Response:</b> \n",
       " #### According to the text, the Baykar Bayraktar TB2 is a medium-altitude, long-endurance unmanned combat aerial vehicle (UCAV) manufactured by Turkish defense company Baykar Defense. It can fly for almost 24 hours at a maximum altitude of 25,000 feet and has a wingspan of approximately 39 feet. The TB2 can be equipped with four laser-guided bombs and is commonly used to attack Russian tanks and other armored vehicles. Before its appearance in Ukraine, the drone was used in Syria, Libya, and Azerbaijan. Ukrainian forces have found the Bayraktar to be very effective as a force multiplier."
      ],
      "text/plain": [
       "<IPython.core.display.Markdown object>"
      ]
     },
     "metadata": {},
     "output_type": "display_data"
    }
   ],
   "source": [
    "\n",
    "query = \"Tell me about Bayraktar practical using\"\n",
    "response = get_RAG_response(query)\n",
    "display(Markdown(f\"## <b>Response:</b> \\n #### {response}\"))"
   ]
  }
 ],
 "metadata": {
  "kernelspec": {
   "display_name": ".venv",
   "language": "python",
   "name": "python3"
  },
  "language_info": {
   "codemirror_mode": {
    "name": "ipython",
    "version": 3
   },
   "file_extension": ".py",
   "mimetype": "text/x-python",
   "name": "python",
   "nbconvert_exporter": "python",
   "pygments_lexer": "ipython3",
   "version": "3.11.9"
  }
 },
 "nbformat": 4,
 "nbformat_minor": 2
}
