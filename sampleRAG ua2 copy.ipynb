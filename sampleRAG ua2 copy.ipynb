{
 "cells": [
  {
   "cell_type": "code",
   "execution_count": 1,
   "metadata": {},
   "outputs": [],
   "source": [
    "#Needed libraries installation (run it once)\n",
    "#%pip install -r requirements.txt"
   ]
  },
  {
   "cell_type": "code",
   "execution_count": 2,
   "metadata": {},
   "outputs": [],
   "source": [
    "import os\n",
    "\n",
    "os.environ[\"OPENAI_API_KEY\"] = \"NA\""
   ]
  },
  {
   "cell_type": "code",
   "execution_count": null,
   "metadata": {},
   "outputs": [],
   "source": [
    "from llama_index.llms.ollama import Ollama\n",
    "\n",
    "llm = Ollama(model=\"llama3.1\", request_timeout=4000.0)"
   ]
  },
  {
   "cell_type": "code",
   "execution_count": 4,
   "metadata": {},
   "outputs": [],
   "source": [
    "from llama_index.core import SimpleDirectoryReader\n",
    "\n",
    "\n",
    "documents = SimpleDirectoryReader(\"data_ua_conf\").load_data()\n",
    "\n"
   ]
  },
  {
   "cell_type": "code",
   "execution_count": 5,
   "metadata": {},
   "outputs": [
    {
     "name": "stderr",
     "output_type": "stream",
     "text": [
      "c:\\automatization\\conf7nov\\conf_7_nov\\.venv\\Lib\\site-packages\\tqdm\\auto.py:21: TqdmWarning: IProgress not found. Please update jupyter and ipywidgets. See https://ipywidgets.readthedocs.io/en/stable/user_install.html\n",
      "  from .autonotebook import tqdm as notebook_tqdm\n"
     ]
    }
   ],
   "source": [
    "from transformers import AutoModel, AutoTokenizer, XLMRobertaTokenizer\n",
    "\n",
    "save_directory = \"./local_embedding_model_ua_2\""
   ]
  },
  {
   "cell_type": "code",
   "execution_count": null,
   "metadata": {},
   "outputs": [],
   "source": [
    "# # Download local embedding model, should be ran only once\n",
    "\n",
    "# model_name = \"google-bert/bert-base-multilingual-cased\"\n",
    "\n",
    "# tokenizer = AutoTokenizer.from_pretrained(model_name)\n",
    "# model = AutoModel.from_pretrained(model_name)\n",
    "# # Save to local directory\n",
    "\n",
    "# tokenizer.save_pretrained(save_directory)\n",
    "# model.save_pretrained(save_directory)"
   ]
  },
  {
   "cell_type": "code",
   "execution_count": 8,
   "metadata": {},
   "outputs": [],
   "source": [
    "# Load local model \n",
    "# Load from local directory\n",
    "tokenizer = AutoTokenizer.from_pretrained(save_directory)\n",
    "model = AutoModel.from_pretrained(save_directory)"
   ]
  },
  {
   "cell_type": "code",
   "execution_count": 9,
   "metadata": {},
   "outputs": [],
   "source": [
    "#create embedding function\n",
    "from llama_index.core.embeddings import BaseEmbedding\n",
    "import torch\n",
    "\n",
    "class LocalEmbedding(BaseEmbedding):\n",
    "    def __init__(self, model, tokenizer):\n",
    "        super().__init__()\n",
    "        self._model = model  # Explicitly define with a private attribute\n",
    "        self._tokenizer = tokenizer\n",
    "\n",
    "    def get_text_embedding(self, text):\n",
    "        # Tokenize with truncation to the model's maximum length\n",
    "        inputs = self._tokenizer(text, return_tensors=\"pt\", max_length=512, truncation=True)\n",
    "        with torch.no_grad():\n",
    "            outputs = self._model(**inputs)\n",
    "        # Compute mean of the last hidden state as embedding\n",
    "        embedding = outputs.last_hidden_state.mean(dim=1).squeeze().numpy()\n",
    "        return embedding\n",
    "\n",
    "    # Implement required methods\n",
    "    def _get_query_embedding(self, query):\n",
    "        return self.get_text_embedding(query)\n",
    "\n",
    "    def _get_text_embedding(self, text):\n",
    "        return self.get_text_embedding(text)\n",
    "\n",
    "    async def _aget_query_embedding(self, query):\n",
    "        return self.get_text_embedding(query)\n",
    "\n",
    "# Initialize custom embedding with your model and tokenizer\n",
    "embedding_model = LocalEmbedding(model=model, tokenizer=tokenizer)\n"
   ]
  },
  {
   "cell_type": "code",
   "execution_count": 10,
   "metadata": {},
   "outputs": [
    {
     "name": "stderr",
     "output_type": "stream",
     "text": [
      "Parsing nodes: 100%|██████████| 297/297 [00:01<00:00, 267.07it/s]\n",
      "Generating embeddings: 100%|██████████| 622/622 [08:29<00:00,  1.22it/s]\n"
     ]
    }
   ],
   "source": [
    "from llama_index.core import VectorStoreIndex, Settings\n",
    "\n",
    "\n",
    "# Configure global settings\n",
    "Settings.llm = llm\n",
    "Settings.embed_model = embedding_model\n",
    "# Set the chunk size (number of tokens per chunk)\n",
    "Settings.chunk_size = 1024\n",
    "# Set the chunk overlap (number of tokens overlapping between chunks)\n",
    "Settings.chunk_overlap = 128\n",
    "index = VectorStoreIndex.from_documents(documents, show_progress=True)"
   ]
  },
  {
   "cell_type": "code",
   "execution_count": 11,
   "metadata": {},
   "outputs": [],
   "source": [
    "# Set up the retriever from your index\n",
    "top_k = 5\n",
    "retriever = index.as_retriever(similarity_top_k=top_k)\n"
   ]
  },
  {
   "cell_type": "code",
   "execution_count": 12,
   "metadata": {},
   "outputs": [],
   "source": [
    "def get_augmented_prompt(query):\n",
    "    retrieved_documents = retriever.retrieve(query)\n",
    "    # Augment the prompt by including the retrieved documents\n",
    "    # Constructing an augmented prompt with context from retrieved documents\n",
    "    augmented_prompt = f\"Context:\\n\"\n",
    "    for index, doc in enumerate(retrieved_documents):\n",
    "        text = doc.text\n",
    "        print(f\"Retrived {index+1}: {text} \\n\")\n",
    "        augmented_prompt += f\"{text}\\n\"\n",
    "    augmented_prompt += f\"\\nQuestion: {query}\\nPlease provide a concise and accurate answer in ukrainian based on the context.\"\n",
    "    return augmented_prompt\n"
   ]
  },
  {
   "cell_type": "code",
   "execution_count": 13,
   "metadata": {},
   "outputs": [],
   "source": [
    "from IPython.display import Markdown, display\n",
    "\n",
    "# Send the augmented prompt to a language model for a synthesized response\n",
    "def get_RAG_response(query):    \n",
    "    response = llm.complete(get_augmented_prompt(query))\n",
    "    return response\n"
   ]
  },
  {
   "cell_type": "code",
   "execution_count": null,
   "metadata": {},
   "outputs": [
    {
     "name": "stdout",
     "output_type": "stream",
     "text": [
      "Retrived 1: Анотація . На основі історично -ретроспективного аналізу, \n",
      "особистого досвіду участі у Антитерористичній операції на сході України \n",
      "у період 2014 -2015 р., автор визначає місце та важливу роль цивільно -\n",
      "військових відносин/взаємодії у ході військового конфлікту (операції)  та \n",
      "подоланні наслідків ведення бойових дій, а також пост -конфліктний \n",
      "період, про необхідність існування та ефективного функціонування \n",
      "універсальної моделі цивільно -військових відносин у ЗСУ шляхом \n",
      "вдосконалення відносин між владою, армією і громадськістю.   \n",
      "Ключові слова: цивільно -військове співробітництво (ЦВС), цивільно -\n",
      "військові відносини, антитерористична операція (АТО) . \n",
      "Вступ  \n",
      "Постановка проблеми. Цивільно -військові відносини, як вид \n",
      "соціальних взаємин, об’єктивно існують у будь -якому суспільстві і \n",
      "потре бують регулювання й упорядкування з боку держави для збереження \n",
      "сталості їх розвитку, забезпечення доцільності і конструктивізму, \n",
      "враховуючи особливі і спільні традиції цивільних та військових спільнот, \n",
      "особливе сприйняття ними своїх цінностей, специфічне розуміння ними \n",
      "\n",
      "Retrived 2: 9 \n",
      "3. Розроблення комплексної методики запобігання гібридним атакам \n",
      "(агресії) щодо розвитку експансії або ж замороження конфлікту на різних \n",
      "етапах формування політики безпеки України.  \n",
      "4. Вдосконалення критеріїв оцінки ефективності розвитку воєнно -\n",
      "політичної та воєнно -стратегічної обстановки, а також показників \n",
      "прогнозування розвитку майбутнього безпекового сер едовища.  \n",
      "5. Поглибленні співпраці експертів високого рівня із можливим \n",
      "створенням наукового підрозділу, сферою діяльності яких будуть \n",
      "дослідження елементів гібридної війни.  \n",
      " \n",
      " \n",
      "Учасники конференції. \n",
      "\n",
      "Retrived 3: На сьогоднішній день існує низка загроз та ризиків, які формують \n",
      "технологію ОСД прикордонних загонів. Основни ми з них є: відсутність \n",
      "сучасної нормативно -правової бази України щодо створення, \n",
      "функціонування та розбудови системи оцінки загроз протиправної \n",
      "діяльності, неможливість повного “копіювання” щодо цього типових \n",
      "рішень інших держав, контрабанда зброї, наркот иків, товарів народного \n",
      "вжитку, нелегальна міграція, спроби незаконного полювання та \n",
      "використання природних ресурсів в межах ділянки відповідальності, \n",
      "відмінність принципів охорони кордону у порівнянні з іншими європейськими \n",
      "країнами та ін.  \n",
      "Крім того, з появою нових видів загроз, зокрема військової агресії РФ \n",
      "проти України, тимчасової окупації нею частини території держави, \n",
      "розпалювання збройного конфлікту в східних регіонах та у акваторії \n",
      "Азовського моря, виникла нагальна потреба в подальшом у розвитку ДПСУ, \n",
      "як суб’єкта забезпечення національної безпеки держави на державному \n",
      "кордоні,це, в свою чергу, зумовлює необхідність удосконалення системи \n",
      "аналізу обстановки з урахуванням військової складової, вивчення \n",
      "міжнародного досвіду, пошуку альтерна тивних сучасних технологій в сфері \n",
      "\n",
      "Retrived 4: До технологій ССК СБО відносяться такі процедури, як моніторинг \n",
      "соціальних мереж, алгоритми виявлення недостовірної (фейкової) \n",
      "інформації, перевірка надійності джерел та використання різних методів \n",
      "оцінювання достовірності інформації. Разом з тим, проблема  полягає не в \n",
      "розповсюдженні недостовірної інформації і спаму в ССК, а у технологіях, \n",
      "які спроможні відокремлювати недостовірну інформацію і спам. Для \n",
      "вирішення цієї проблеми використовуються процедури, які засновані на \n",
      "технології блокчейн у (Blockchain)  і відокремлюють надійні джерела \n",
      "інформації від недостовірних.  \n",
      "Стратегічні комунікації в СБО, як система взаємопов’язаних дій та \n",
      "заходів, здійснюються на стратегічному, оперативному, і тактичному рівнях \n",
      "управління.  \n",
      "На стратегічному рівні  здійснюється скоорди новане і належне \n",
      "використання комунікативних можливостей СБО: публічної дипломатії, \n",
      "зв’язків із громадськістю, військових зв’язків, інформаційних та \n",
      "психологічних операцій, заходів, спрямованих на досягнення стратегічних \n",
      "цілей держави [5]. \n",
      "\n",
      "Retrived 5: 96 \n",
      "здатності військ (сил) і населення до ефективних дій в умовах \n",
      "інформаційно -психологічної агресії противника [4,5].  \n",
      "П’яте. Важливим висновком має бути уточнення та прискорення \n",
      "прийняття “Концепції інформаційної безпеки України”. Вона повинна \n",
      "визначити засади, основні напрями та першочергові заходи державної \n",
      "політики забезпечення інформаційної безпеки. Доцільно провести системне \n",
      "обстеження усіх її складових, з подальшим їх узагальненням і \n",
      "упорядкуванням. З цією метою доцільно посилити роль РНБО України як \n",
      "головного координаційного органу у сфері національної безпеки, створення \n",
      "в складі системи забезпечення інформаційної безпеки ефективних структур, \n",
      "які націлені на ведення інформаційної боротьби. При цьому система \n",
      "інформаційної боротьби у ЗС України повинна стати однією із складових \n",
      "системи забезпечення інформаційної безпеки країни. \n",
      "\n"
     ]
    },
    {
     "data": {
      "text/markdown": [
       "## <b>Response:</b> \n",
       " #### Створення системи цивільно-військового співробітництва (ЦВС) є важливим кроком для забезпечення ефективного функціонування відносин між владою, армією і громадськістю під час військових операцій та після них.\n",
       "\n",
       "Проте такий механізм повинен включати в себе спеціальні програми розвитку співпраці між цивільними організаціями та військами (силами), а також створення ефективних структур управління для організації взаємодії між різними соціальними партнерами під час війни і після неї."
      ],
      "text/plain": [
       "<IPython.core.display.Markdown object>"
      ]
     },
     "metadata": {},
     "output_type": "display_data"
    }
   ],
   "source": [
    "query = \"створення системи цивільновійськового співробітництва\"\n",
    "response = get_RAG_response(query)\n",
    "display(Markdown(f\"## <b>Response:</b> \\n #### {response}\"))\n"
   ]
  }
 ],
 "metadata": {
  "kernelspec": {
   "display_name": ".venv",
   "language": "python",
   "name": "python3"
  },
  "language_info": {
   "codemirror_mode": {
    "name": "ipython",
    "version": 3
   },
   "file_extension": ".py",
   "mimetype": "text/x-python",
   "name": "python",
   "nbconvert_exporter": "python",
   "pygments_lexer": "ipython3",
   "version": "3.11.9"
  }
 },
 "nbformat": 4,
 "nbformat_minor": 2
}
